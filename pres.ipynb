{
 "cells": [
  {
   "cell_type": "code",
   "execution_count": null,
   "metadata": {
    "collapsed": true,
    "slideshow": {
     "slide_type": "skip"
    }
   },
   "outputs": [],
   "source": [
    "%%javascript\n",
    "// Run this cell to hide current output, but reserve space for it.\n",
    "// Re-running those cells will cause the output to appear.\n",
    "\n",
    "$('.output_area').css('opacity', 0)"
   ]
  },
  {
   "cell_type": "code",
   "execution_count": null,
   "metadata": {
    "collapsed": true,
    "slideshow": {
     "slide_type": "skip"
    }
   },
   "outputs": [],
   "source": [
    "import grader"
   ]
  },
  {
   "cell_type": "markdown",
   "metadata": {
    "slideshow": {
     "slide_type": "slide"
    }
   },
   "source": [
    "# Teaching from Jupyter Notebooks\n",
    "\n",
    "&nbsp;\n",
    "\n",
    "## Christian Moscardi and Robert Schroll\n",
    "\n",
    "&nbsp;\n",
    "\n",
    "### The Data Incubator"
   ]
  },
  {
   "cell_type": "markdown",
   "metadata": {
    "slideshow": {
     "slide_type": "slide"
    }
   },
   "source": [
    "## About Us\n",
    "\n",
    "Teach a variety of classes\n",
    "- Fellowship\n",
    "- Foundations\n",
    "- Corporate Training\n",
    "- Workshops\n",
    "\n",
    "Different Content, Different Timescales, Same Platform"
   ]
  },
  {
   "cell_type": "markdown",
   "metadata": {
    "slideshow": {
     "slide_type": "slide"
    }
   },
   "source": [
    "## Outline\n",
    "\n",
    "- Notebooks for Teaching\n",
    "- Notebooks for Exercises\n",
    "- Deploying Notebooks\n",
    "- The Future"
   ]
  },
  {
   "cell_type": "markdown",
   "metadata": {
    "slideshow": {
     "slide_type": "slide"
    }
   },
   "source": [
    "## Outline\n",
    "\n",
    "- **Notebooks for Teaching**\n",
    "- Notebooks for Exercises\n",
    "- Deploying Notebooks\n",
    "- The Future"
   ]
  },
  {
   "cell_type": "markdown",
   "metadata": {
    "slideshow": {
     "slide_type": "slide"
    }
   },
   "source": [
    "## Many Languages; One Interface\n",
    "\n",
    "- IPython for Python\n",
    "- Toree for Spark/Scala\n",
    "  - http://blog.thedataincubator.com/2017/04/spark-2-0-on-jupyter-with-toree\n",
    "- R\n",
    "  - https://irkernel.github.io/"
   ]
  },
  {
   "cell_type": "markdown",
   "metadata": {
    "slideshow": {
     "slide_type": "fragment"
    }
   },
   "source": [
    "- Web stack: HTML/JS/CSS"
   ]
  },
  {
   "cell_type": "markdown",
   "metadata": {
    "slideshow": {
     "slide_type": "slide"
    }
   },
   "source": [
    "## Existing IPython Magics"
   ]
  },
  {
   "cell_type": "code",
   "execution_count": null,
   "metadata": {
    "collapsed": true
   },
   "outputs": [],
   "source": [
    "%%html\n",
    "\n",
    "<h2>Hello World!</h2>"
   ]
  },
  {
   "cell_type": "code",
   "execution_count": null,
   "metadata": {
    "collapsed": true
   },
   "outputs": [],
   "source": [
    "%%javascript\n",
    "\n",
    "alert(\"Hello World!\")"
   ]
  },
  {
   "cell_type": "markdown",
   "metadata": {
    "slideshow": {
     "slide_type": "slide"
    }
   },
   "source": [
    "## Magics Run in Notebook Context"
   ]
  },
  {
   "cell_type": "code",
   "execution_count": null,
   "metadata": {
    "collapsed": true
   },
   "outputs": [],
   "source": [
    "%%html\n",
    "<style id='annoying'>\n",
    "* {\n",
    "    font-family: \"Comic Sans MS\";\n",
    "    background: url('https://media.giphy.com/media/87tkMovdHMRk4/giphy.gif') black;\n",
    "    \n",
    "    animation: 3s infinite linear hue;\n",
    "}\n",
    "\n",
    "@keyframes hue {\n",
    "    0% { color: hsl(0, 100%, 50%); }\n",
    "    16% { color: hsl(60, 100%, 50%); }\n",
    "    33% { color: hsl(120, 100%, 50%); }\n",
    "    50% { color: hsl(180, 100%, 50%); }\n",
    "    67% { color: hsl(240, 100%, 50%); }\n",
    "    84% { color: hsl(300, 100%, 50%); }\n",
    "    100% { color: hsl(360, 100%, 50%); }\n",
    "}\n",
    "\n",
    "</style>\n",
    "<button onclick=\"$('#annoying').remove()\">Please Stop!</button>"
   ]
  },
  {
   "cell_type": "markdown",
   "metadata": {
    "slideshow": {
     "slide_type": "slide"
    }
   },
   "source": [
    "## A Pure JS Solution\n",
    "https://github.com/cmoscardi/embedded_d3_example\n",
    "\n",
    "Doesn't help students understand how to build similar things in a stand-alone manner."
   ]
  },
  {
   "cell_type": "markdown",
   "metadata": {
    "slideshow": {
     "slide_type": "slide"
    }
   },
   "source": [
    "## `<iframe>` for Isolation"
   ]
  },
  {
   "cell_type": "code",
   "execution_count": null,
   "metadata": {
    "collapsed": true,
    "scrolled": false
   },
   "outputs": [],
   "source": [
    "from IPython.display import IFrame, display_html\n",
    "\n",
    "IFrame('http://jupyter.org', '100%', 400)"
   ]
  },
  {
   "cell_type": "markdown",
   "metadata": {
    "slideshow": {
     "slide_type": "slide"
    }
   },
   "source": [
    "## Data URLs\n",
    "\n",
    "iframes take URLs, not raw HTML\n",
    "\n",
    "We could try to spin up a webserver to display the content, but...\n",
    "\n",
    "Data URLs encode content directly in the URL"
   ]
  },
  {
   "cell_type": "code",
   "execution_count": null,
   "metadata": {
    "collapsed": true
   },
   "outputs": [],
   "source": [
    "%%html\n",
    "<img src=\"data:image/png;base64,iVBORw0KGgoAAA\n",
    "ANSUhEUgAAAAUAAAAFCAYAAACNbyblAAAAHElEQVQI12P4\n",
    "//8/w38GIAXDIBKE0DHxgljNBAAO9TXL0Y4OHwAAAABJRU\n",
    "5ErkJggg==\" width=\"100\" height=\"100\" alt=\"Red dot\" />"
   ]
  },
  {
   "cell_type": "markdown",
   "metadata": {
    "slideshow": {
     "slide_type": "slide"
    }
   },
   "source": [
    "## Data URLs and iframes"
   ]
  },
  {
   "cell_type": "code",
   "execution_count": null,
   "metadata": {
    "collapsed": true
   },
   "outputs": [],
   "source": [
    "import base64\n",
    "\n",
    "IFrame('data:text/html;base64,' + base64.b64encode(\"\"\"\n",
    "<html>\n",
    "    <body bgcolor='#eee'>\n",
    "        <h1>Hello World!</h1>\n",
    "    </body>\n",
    "</html>\n",
    "\"\"\"), \"100%\", 100)"
   ]
  },
  {
   "cell_type": "markdown",
   "metadata": {
    "slideshow": {
     "slide_type": "slide"
    }
   },
   "source": [
    "## Introducing the ihtml package\n",
    "\n",
    "Wraps iframe + Data URLs in a magic syntax"
   ]
  },
  {
   "cell_type": "code",
   "execution_count": null,
   "metadata": {
    "collapsed": true
   },
   "outputs": [],
   "source": [
    "import ihtml"
   ]
  },
  {
   "cell_type": "code",
   "execution_count": null,
   "metadata": {
    "collapsed": true,
    "scrolled": false
   },
   "outputs": [],
   "source": [
    "%%ihtml\n",
    "<html>\n",
    "    <body bgcolor='#eee'>\n",
    "        <h1>Hello World!</h1>\n",
    "    </body>\n",
    "</html>"
   ]
  },
  {
   "cell_type": "markdown",
   "metadata": {
    "slideshow": {
     "slide_type": "slide"
    }
   },
   "source": [
    "## Templating Inspired by Jinja"
   ]
  },
  {
   "cell_type": "code",
   "execution_count": null,
   "metadata": {
    "collapsed": true
   },
   "outputs": [],
   "source": [
    "message = \"Hello World!\""
   ]
  },
  {
   "cell_type": "code",
   "execution_count": null,
   "metadata": {
    "collapsed": true,
    "scrolled": false
   },
   "outputs": [],
   "source": [
    "%%ihtml 200\n",
    "<html>\n",
    "    <body bgcolor='#eee'>\n",
    "        <h1>{{ message }}</h1>\n",
    "        <pre>var message = {{ message | json }}</pre>\n",
    "    </body>\n",
    "</html>"
   ]
  },
  {
   "cell_type": "markdown",
   "metadata": {
    "slideshow": {
     "slide_type": "slide"
    }
   },
   "source": [
    "## Sub-documents for CSS and JS"
   ]
  },
  {
   "cell_type": "code",
   "execution_count": null,
   "metadata": {
    "collapsed": true
   },
   "outputs": [],
   "source": [
    "%%cssdoc graybg\n",
    "body {\n",
    "    background: #eee;\n",
    "}"
   ]
  },
  {
   "cell_type": "code",
   "execution_count": null,
   "metadata": {
    "collapsed": true
   },
   "outputs": [],
   "source": [
    "%%jsdoc clicker\n",
    "document.addEventListener(\"DOMContentLoaded\", function (e) {\n",
    "    document.querySelector(\"h1\").addEventListener(\"click\", function (ev) {\n",
    "        var div = document.createElement(\"div\");\n",
    "        div.textContent = {{ message | json }};\n",
    "        document.body.appendChild(div);\n",
    "    })\n",
    "})"
   ]
  },
  {
   "cell_type": "markdown",
   "metadata": {
    "slideshow": {
     "slide_type": "slide"
    }
   },
   "source": [
    "## Referencing Sub-documents"
   ]
  },
  {
   "cell_type": "code",
   "execution_count": null,
   "metadata": {
    "collapsed": true,
    "scrolled": false
   },
   "outputs": [],
   "source": [
    "%%ihtml\n",
    "<html>\n",
    "    <head>\n",
    "        {{ graybg | cssdoc }}\n",
    "        {{ clicker | jsdoc }}\n",
    "    </head>\n",
    "    <body>\n",
    "        <h1>Click me!</h1>\n",
    "    </body>\n",
    "</html>"
   ]
  },
  {
   "cell_type": "markdown",
   "metadata": {
    "slideshow": {
     "slide_type": "slide"
    }
   },
   "source": [
    "## ihtml\n",
    "\n",
    "Not going to replace your web-development platform\n",
    "\n",
    "Good for teaching from a single document\n",
    "\n",
    "Available on Github: https://github.com/thedataincubator/ihtml\n",
    "\n",
    "BSD license"
   ]
  },
  {
   "cell_type": "markdown",
   "metadata": {
    "slideshow": {
     "slide_type": "slide"
    }
   },
   "source": [
    "## Magics Customize Kernel Behavior\n",
    "\n",
    "You can make the notebooks behave how you need them to\n",
    "\n",
    "For example, **exception handling**"
   ]
  },
  {
   "cell_type": "code",
   "execution_count": null,
   "metadata": {
    "collapsed": true,
    "scrolled": false,
    "slideshow": {
     "slide_type": "slide"
    }
   },
   "outputs": [],
   "source": [
    "def cause_problems():\n",
    "    return 1/0\n",
    "\n",
    "cause_problems()"
   ]
  },
  {
   "cell_type": "markdown",
   "metadata": {
    "slideshow": {
     "slide_type": "fragment"
    }
   },
   "source": [
    "That's great for interactive use, but\n",
    "- We want to test\n",
    "- This halts the execution of multiple cells"
   ]
  },
  {
   "cell_type": "markdown",
   "metadata": {
    "slideshow": {
     "slide_type": "slide"
    }
   },
   "source": [
    "We used to use `try`/`except` blocks"
   ]
  },
  {
   "cell_type": "code",
   "execution_count": null,
   "metadata": {
    "collapsed": true,
    "slideshow": {
     "slide_type": "-"
    }
   },
   "outputs": [],
   "source": [
    "try:\n",
    "    cause_problems()\n",
    "except ZeroDivisionError:\n",
    "    print \"Problems were caused!\""
   ]
  },
  {
   "cell_type": "markdown",
   "metadata": {
    "slideshow": {
     "slide_type": "fragment"
    }
   },
   "source": [
    "But students don't learn to read tracebacks"
   ]
  },
  {
   "cell_type": "markdown",
   "metadata": {
    "slideshow": {
     "slide_type": "slide"
    }
   },
   "source": [
    "We can include the traceback in Markdown...\n",
    "```\n",
    ">>> cause_problems()\n",
    "Traceback (most recent call last):\n",
    "  File \"<stdin>\", line 1, in <module>\n",
    "  File \"<stdin>\", line 2, in cause_problems\n",
    "ZeroDivisionError: integer division or modulo by zero\n",
    "```\n",
    "...at the cost of interactivity"
   ]
  },
  {
   "cell_type": "markdown",
   "metadata": {
    "slideshow": {
     "slide_type": "slide"
    }
   },
   "source": [
    "## IPython Magic for Custom Execution\n",
    "\n",
    "Our first attempt was a magic at the syntax level\n",
    "\n",
    "It would rewrite a cell like"
   ]
  },
  {
   "cell_type": "code",
   "execution_count": null,
   "metadata": {
    "collapsed": true
   },
   "outputs": [],
   "source": [
    "%%exception_magic\n",
    "\n",
    "cause_problems()"
   ]
  },
  {
   "cell_type": "markdown",
   "metadata": {},
   "source": [
    "to wrap it in a `try`/`except` block"
   ]
  },
  {
   "cell_type": "code",
   "execution_count": null,
   "metadata": {
    "collapsed": true,
    "slideshow": {
     "slide_type": "-"
    }
   },
   "outputs": [],
   "source": [
    "try:\n",
    "    cause_problems()\n",
    "except Exception as e:\n",
    "    from IPython.core import ultratb\n",
    "    ultratb.AutoFormattedTB(mode='Context')()"
   ]
  },
  {
   "cell_type": "code",
   "execution_count": null,
   "metadata": {
    "collapsed": true,
    "slideshow": {
     "slide_type": "slide"
    }
   },
   "outputs": [],
   "source": [
    "try:\n",
    "    cause_problems()\n",
    "except Exception as e:\n",
    "    from IPython.core import ultratb\n",
    "    ultratb.AutoFormattedTB(mode='Context')()"
   ]
  },
  {
   "cell_type": "markdown",
   "metadata": {
    "slideshow": {
     "slide_type": "fragment"
    }
   },
   "source": [
    "But the traceback contains the altered source"
   ]
  },
  {
   "cell_type": "markdown",
   "metadata": {
    "slideshow": {
     "slide_type": "slide"
    }
   },
   "source": [
    "## Magics can Interact with Python Shell\n",
    "\n",
    "Magics classes get a reference to current shell in the `shell` attribute\n",
    "\n",
    "The shell can have custom exception handling in `set_custom_exc`\n",
    "\n",
    "We build a custom handler to print out exception, but continue execution"
   ]
  },
  {
   "cell_type": "markdown",
   "metadata": {
    "slideshow": {
     "slide_type": "slide"
    }
   },
   "source": [
    "## ExpectException"
   ]
  },
  {
   "cell_type": "code",
   "execution_count": null,
   "metadata": {
    "collapsed": true
   },
   "outputs": [],
   "source": [
    "import expectexception"
   ]
  },
  {
   "cell_type": "code",
   "execution_count": null,
   "metadata": {
    "collapsed": true
   },
   "outputs": [],
   "source": [
    "%%expect_exception ZeroDivisionError\n",
    "\n",
    "1 / 0"
   ]
  },
  {
   "cell_type": "markdown",
   "metadata": {
    "slideshow": {
     "slide_type": "slide"
    }
   },
   "source": [
    "## `Exception` is default type"
   ]
  },
  {
   "cell_type": "code",
   "execution_count": null,
   "metadata": {
    "collapsed": true,
    "slideshow": {
     "slide_type": "-"
    }
   },
   "outputs": [],
   "source": [
    "%%expect_exception\n",
    "\n",
    "1 / 0"
   ]
  },
  {
   "cell_type": "markdown",
   "metadata": {
    "slideshow": {
     "slide_type": "slide"
    }
   },
   "source": [
    "## `ExceptionExpected`"
   ]
  },
  {
   "cell_type": "code",
   "execution_count": null,
   "metadata": {
    "collapsed": true,
    "slideshow": {
     "slide_type": "-"
    }
   },
   "outputs": [],
   "source": [
    "%%expect_exception ZeroDivisionError\n",
    "\n",
    "0 / 1"
   ]
  },
  {
   "cell_type": "markdown",
   "metadata": {
    "slideshow": {
     "slide_type": "slide"
    }
   },
   "source": [
    "## `ignore_exception` Magic"
   ]
  },
  {
   "cell_type": "code",
   "execution_count": null,
   "metadata": {
    "collapsed": true,
    "slideshow": {
     "slide_type": "-"
    }
   },
   "outputs": [],
   "source": [
    "%%ignore_exception AssertionError\n",
    "\n",
    "import random\n",
    "assert random.randint(0, 1)"
   ]
  },
  {
   "cell_type": "markdown",
   "metadata": {
    "slideshow": {
     "slide_type": "slide"
    }
   },
   "source": [
    "## Debugger can Inspect Tracebacks"
   ]
  },
  {
   "cell_type": "code",
   "execution_count": null,
   "metadata": {
    "collapsed": true
   },
   "outputs": [],
   "source": [
    "%debug"
   ]
  },
  {
   "cell_type": "markdown",
   "metadata": {
    "slideshow": {
     "slide_type": "slide"
    }
   },
   "source": [
    "## ExpectException\n",
    "\n",
    "Available on Github: https://github.com/thedataincubator/expectexception\n",
    "\n",
    "BSD license"
   ]
  },
  {
   "cell_type": "markdown",
   "metadata": {
    "slideshow": {
     "slide_type": "slide"
    }
   },
   "source": [
    "## Outline\n",
    "\n",
    "- **Notebooks for Teaching**\n",
    "- Notebooks for Exercises\n",
    "- Deploying Notebooks\n",
    "- The Future"
   ]
  },
  {
   "cell_type": "markdown",
   "metadata": {
    "slideshow": {
     "slide_type": "slide"
    }
   },
   "source": [
    "## Outline\n",
    "\n",
    "- Notebooks for Teaching\n",
    "- **Notebooks for Exercises**\n",
    "- Deploying Notebooks\n",
    "- The Future"
   ]
  },
  {
   "cell_type": "markdown",
   "metadata": {
    "slideshow": {
     "slide_type": "slide"
    }
   },
   "source": [
    "## Miniprojects\n",
    "\n",
    "We believe in *learning-by-doing*\n",
    "\n",
    "Most of students' time is spent on \"miniprojects\":  \n",
    "Sample analysis of real data\n",
    "\n",
    "Worried about results, not method"
   ]
  },
  {
   "cell_type": "markdown",
   "metadata": {
    "slideshow": {
     "slide_type": "slide"
    }
   },
   "source": [
    "## Each in a Notebook\n",
    "\n",
    "Mix description, helper code, outline of solution in same document\n",
    "\n",
    "Start with fill-in-the-blank questions"
   ]
  },
  {
   "cell_type": "code",
   "execution_count": null,
   "metadata": {
    "collapsed": true
   },
   "outputs": [],
   "source": [
    "star_sum = defaultdict(int)\n",
    "count = defaultdict(int)\n",
    "\n",
    "for row, stars in zip(data, star_ratings):\n",
    "    # increment the running sum in star_sum\n",
    "    # increment the running count in count"
   ]
  },
  {
   "cell_type": "markdown",
   "metadata": {
    "slideshow": {
     "slide_type": "slide"
    }
   },
   "source": [
    "Move to less-directed questions\n",
    "\n",
    "> Build a custom transformer that flattens the attributes dictionary. Place this in a pipeline with a DictVectorizer and a regressor.\n",
    "> \n",
    "> You may find it difficult to find a single regressor that does well enough. A common solution is to use a linear model to fit the linear part of some data, and use a non-linear model to fit the residual that the linear model can't fit. Build a residual estimator that takes as an argument two other estimators. It should use the first to fit the raw data and the second to fit the residuals of the first."
   ]
  },
  {
   "cell_type": "markdown",
   "metadata": {
    "slideshow": {
     "slide_type": "slide"
    }
   },
   "source": [
    "## Checkpoints with `assert`\n",
    "\n",
    "Allow students to check their progress towards an answer"
   ]
  },
  {
   "cell_type": "code",
   "execution_count": null,
   "metadata": {
    "collapsed": true
   },
   "outputs": [],
   "source": [
    "assert len(avg_stars) == 167"
   ]
  },
  {
   "cell_type": "markdown",
   "metadata": {},
   "source": [
    "**But:** Students will solve problems in ways that invalidate your assumptions!"
   ]
  },
  {
   "cell_type": "markdown",
   "metadata": {
    "slideshow": {
     "slide_type": "slide"
    }
   },
   "source": [
    "## Automated Grader\n",
    "\n",
    "Instant feedback for students, based on the results of their analysis\n",
    "\n",
    "Students write a function that returns the answer\n",
    "\n",
    "This function is passed to the `grader.score` function"
   ]
  },
  {
   "cell_type": "markdown",
   "metadata": {
    "slideshow": {
     "slide_type": "slide"
    }
   },
   "source": [
    "## Fixed Answers\n",
    "\n",
    "Some questions ask for a single fixed answer\n",
    "\n",
    "> Return a list of the first five prime numbers."
   ]
  },
  {
   "cell_type": "code",
   "execution_count": null,
   "metadata": {
    "collapsed": true
   },
   "outputs": [],
   "source": [
    "def give_primes():\n",
    "    return [2, 3, 5, 7, 11]\n",
    "\n",
    "grader.score(\"assignment1__five_primes\", give_primes)"
   ]
  },
  {
   "cell_type": "markdown",
   "metadata": {},
   "source": [
    "Used for most data processing questions\n",
    "\n",
    "Grades based on overlap (possibly fuzzy) of student's answer and reference solution"
   ]
  },
  {
   "cell_type": "markdown",
   "metadata": {
    "slideshow": {
     "slide_type": "slide"
    }
   },
   "source": [
    "## Dynamic Answers\n",
    "\n",
    "Other questions require a function that processes input to calculate a response\n",
    "\n",
    "> Build a function that takes a list of numbers and returns a list of their squares."
   ]
  },
  {
   "cell_type": "code",
   "execution_count": null,
   "metadata": {
    "collapsed": true
   },
   "outputs": [],
   "source": [
    "def square(x):\n",
    "    return [i**2 for i in x]\n",
    "\n",
    "grader.score(\"assignment1__square\", square)"
   ]
  },
  {
   "cell_type": "markdown",
   "metadata": {},
   "source": [
    "Used for most machine learning questions\n",
    "\n",
    "Grades based on some machine learning metric, normalized by reference solution score on same metric"
   ]
  },
  {
   "cell_type": "markdown",
   "metadata": {
    "slideshow": {
     "slide_type": "slide"
    }
   },
   "source": [
    "## Architectural Diagram"
   ]
  },
  {
   "cell_type": "markdown",
   "metadata": {
    "slideshow": {
     "slide_type": "slide"
    }
   },
   "source": [
    "## Templating System\n",
    "\n",
    "Want solution version of notebooks to hand out after course\n",
    "\n",
    "Want to know that partial code in prompt notebook is correct\n",
    "\n",
    "$\\Rightarrow$ Generate both from same document\n",
    "\n",
    "Use simple templating commands in code cells"
   ]
  },
  {
   "cell_type": "code",
   "execution_count": null,
   "metadata": {
    "collapsed": true
   },
   "outputs": [],
   "source": [
    "l = [1, 2, 3]  #REMOVERHS\n",
    "for i in l:\n",
    "    #INSERT print ...\n",
    "    #REMOVE{\n",
    "    print i + 1\n",
    "    #REMOVE}\n",
    "print \"Done\" #REMOVE"
   ]
  },
  {
   "cell_type": "markdown",
   "metadata": {
    "slideshow": {
     "slide_type": "slide"
    }
   },
   "source": [
    "## Generating Prompt Notebook"
   ]
  },
  {
   "cell_type": "code",
   "execution_count": null,
   "metadata": {
    "collapsed": true
   },
   "outputs": [],
   "source": [
    "l = [1, 2, 3]  #REMOVERHS\n",
    "for i in l:\n",
    "    #INSERT print ...\n",
    "    #REMOVE{\n",
    "    print i + 1\n",
    "    #REMOVE}\n",
    "print \"Done\" #REMOVE"
   ]
  },
  {
   "cell_type": "markdown",
   "metadata": {},
   "source": [
    "Preprocessor script removes some lines, inserts others, to yield:"
   ]
  },
  {
   "cell_type": "code",
   "execution_count": null,
   "metadata": {
    "collapsed": true
   },
   "outputs": [],
   "source": [
    "l = ...\n",
    "for i in l:\n",
    "    print ..."
   ]
  },
  {
   "cell_type": "markdown",
   "metadata": {
    "slideshow": {
     "slide_type": "slide"
    }
   },
   "source": [
    "## Generating Solution Notebook"
   ]
  },
  {
   "cell_type": "code",
   "execution_count": null,
   "metadata": {
    "collapsed": true
   },
   "outputs": [],
   "source": [
    "l = [1, 2, 3]  #REMOVERHS\n",
    "for i in l:\n",
    "    #INSERT print ...\n",
    "    #REMOVE{\n",
    "    print i + 1\n",
    "    #REMOVE}\n",
    "print \"Done\" #REMOVE"
   ]
  },
  {
   "cell_type": "markdown",
   "metadata": {},
   "source": [
    "Preprocessor script removes comments, leaving functional code the same:"
   ]
  },
  {
   "cell_type": "code",
   "execution_count": null,
   "metadata": {
    "collapsed": true
   },
   "outputs": [],
   "source": [
    "l = [1, 2, 3]\n",
    "for i in l:\n",
    "    print i + 1\n",
    "print \"Done\""
   ]
  },
  {
   "cell_type": "markdown",
   "metadata": {
    "slideshow": {
     "slide_type": "slide"
    }
   },
   "source": [
    "## In-Notebook Exercises\n",
    "\n",
    "Miniprojects aren't appropriate to every type of class\n",
    "\n",
    "Shorter trainings, workshops don't have time for students to get into miniprojects\n",
    "\n",
    "Instead, integrate exercises in between lecture topics  \n",
    "$\\Rightarrow$ Short bits of coding to test understanding"
   ]
  },
  {
   "cell_type": "markdown",
   "metadata": {
    "slideshow": {
     "slide_type": "slide"
    }
   },
   "source": [
    "## Outline\n",
    "\n",
    "- Notebooks for Teaching\n",
    "- **Notebooks for Exercises**\n",
    "- Deploying Notebooks\n",
    "- The Future"
   ]
  },
  {
   "cell_type": "markdown",
   "metadata": {
    "slideshow": {
     "slide_type": "slide"
    }
   },
   "source": [
    "## Outline\n",
    "\n",
    "- Notebooks for Teaching\n",
    "- Notebooks for Exercises\n",
    "- **Deploying Notebooks**\n",
    "- The Future"
   ]
  },
  {
   "cell_type": "markdown",
   "metadata": {
    "slideshow": {
     "slide_type": "slide"
    }
   },
   "source": [
    "## Using git for SCM\n",
    "\n",
    "Get all sorts of metadata and output in source files.\n",
    "We don't want students to see that - we also don't want to mess up our git history whenever output changes.\n",
    "\n",
    "\n",
    "```json\n",
    "...\n",
    "...\n",
    "...\n",
    "  {\n",
    "   \"cell_type\": \"code\",\n",
    "   \"execution_count\": 4, // NOPE\n",
    "   \"metadata\": {\n",
    "    \"collapsed\": false\n",
    "   },\n",
    "\"outputs\": [\n",
    "    {\n",
    "     \"data\": {\n",
    "      \"application/javascript\": [\n",
    "       \"\\n\",\n",
    "       \"           window.headwayVsRidership={\\\"day\\\":{\\\"0\\\":\\\"Monday\\\",\\\"1\\\":\\\"Tuesday\\\",\\\"2\\\":\\\"Wednes\n",
    "       ...\n",
    "       ...\n",
    "       ...\n",
    "```\n",
    "\n",
    "** Only content should be included in Git, not outputs**. \\*\n",
    "\n",
    "\\*This is our opinionated stance."
   ]
  },
  {
   "cell_type": "markdown",
   "metadata": {
    "slideshow": {
     "slide_type": "slide"
    }
   },
   "source": [
    "## Cleaning Scripts as git Hooks\n",
    "\n",
    "Solution - a really simple git pre-commit hook.\n",
    "\n",
    "https://gist.github.com/cmoscardi/75a4cf2362c49deb36cdd6b991c25786\n",
    "\n",
    "\n",
    "```python\n",
    "#!/usr/bin/env ipython\n",
    "import io\n",
    "import sys\n",
    "\n",
    "from nbformat import read, write\n",
    "\n",
    "# Handle either stdin or a filename\n",
    "if __name__ == '__main__':\n",
    "  for filename in sys.argv[1:]:\n",
    "    ipynb = read(filename, 4)\n",
    "\n",
    "    ipynb.metadata.signature = ''\n",
    "\n",
    "    for cell in ipynb.cells:\n",
    "      if \"outputs\" in cell:\n",
    "        cell[\"outputs\"] = []\n",
    "      if \"execution_count\" in cell:\n",
    "        cell[\"execution_count\"] = None\n",
    "\n",
    "    with io.open(filename, mode=\"w\", encoding='utf-8') as fh:\n",
    "      write(ipynb, fh)\n",
    "```"
   ]
  },
  {
   "cell_type": "markdown",
   "metadata": {
    "slideshow": {
     "slide_type": "slide"
    }
   },
   "source": [
    "## Smoke Testing\n",
    "\n",
    "Make sure all cells run\n",
    "\n",
    "```\n",
    "jupyter nbconvert --to notebook --execute\\\n",
    "--ExecutePreprocessor.timeout=60\\\n",
    "--output my_notebook_executed.ipynb my_notebook.ipynb\n",
    "```\n",
    "\n",
    "http://www.christianmoscardi.com/blog/2016/01/20/jupyter-testing.html\n",
    "\n",
    "As long as you have the appropriate kernel installed, this Just Works (even in parallel!)"
   ]
  },
  {
   "cell_type": "markdown",
   "metadata": {
    "slideshow": {
     "slide_type": "slide"
    }
   },
   "source": [
    "## Link Testing\n",
    "\n",
    "External sites go down all the time\n",
    "\n",
    "Internal links $\\Rightarrow$ Did we deploy the right resources?"
   ]
  },
  {
   "cell_type": "markdown",
   "metadata": {
    "slideshow": {
     "slide_type": "slide"
    }
   },
   "source": [
    "## Efficiency vs. Completeness\n",
    "\n",
    "On PRs, test only what changed  \n",
    "Unless a dependency changed; then test everything\n"
   ]
  },
  {
   "cell_type": "markdown",
   "metadata": {
    "slideshow": {
     "slide_type": "slide"
    }
   },
   "source": [
    "![Testing](Testing Pipeline.svg)"
   ]
  },
  {
   "cell_type": "markdown",
   "metadata": {
    "slideshow": {
     "slide_type": "slide"
    }
   },
   "source": [
    "## Now, Parallelize that\n",
    "\n",
    "Use `nose-parallel` [link](http://nose.readthedocs.io/en/latest/doc_tests/test_multiprocess/multiprocess.html)\n",
    "\n",
    "But we dynamically add our test cases based on what notebooks get passed in as command-line arguments.\n",
    "\n",
    "`nose-parallel` doesn't like this... so we have to hack some internals.\n",
    "\n",
    "```python\n",
    "  @classmethod\n",
    "  def add_func(cls, ipynb):\n",
    "    \n",
    "    def func(self):\n",
    "      self.check_ipynb(ipynb) # this is the nbconvert code\n",
    "\n",
    "    _, nbname = os.path.split(ipynb)\n",
    "    func.__name__ = 'test_{}_{}'.format(prefix, nbname.split('.')[0])\n",
    "    func.__doc__ = 'Test {}'.format(nbname)\n",
    "    setattr(cls, func.__name__, func)\n",
    "\n",
    "  def add_tests(self):\n",
    "    for ipynb in self.ipynbs:\n",
    "      self.add_func(ipynb)\n",
    "```\n",
    "\n",
    "\n",
    "\n",
    "\n",
    "We also parallelize our remote link checking with [requests-futures](https://github.com/ross/requests-futures) (and some retry logic).\n"
   ]
  },
  {
   "cell_type": "markdown",
   "metadata": {
    "slideshow": {
     "slide_type": "slide"
    }
   },
   "source": [
    "## Deployment\n",
    "\n",
    "Individual Digital Ocean boxes for each student\n",
    "\n",
    "Image contains all software and libraries\n",
    "\n",
    "Curriculum loaded from S3\n",
    "\n",
    "Autolaunch Jupyter server; use IPtables to put on port 443"
   ]
  },
  {
   "cell_type": "markdown",
   "metadata": {
    "slideshow": {
     "slide_type": "slide"
    }
   },
   "source": [
    "## Outline\n",
    "\n",
    "- Notebooks for Teaching\n",
    "- Notebooks for Exercises\n",
    "- **Deploying Notebooks**\n",
    "- The Future"
   ]
  },
  {
   "cell_type": "markdown",
   "metadata": {
    "slideshow": {
     "slide_type": "slide"
    }
   },
   "source": [
    "## Outline\n",
    "\n",
    "- Notebooks for Teaching\n",
    "- Notebooks for Exercises\n",
    "- Deploying Notebooks\n",
    "- **The Future**"
   ]
  },
  {
   "cell_type": "markdown",
   "metadata": {
    "slideshow": {
     "slide_type": "slide"
    }
   },
   "source": [
    "## The Future\n",
    "\n",
    "MOOCs $\\Rightarrow$ This won't scale\n",
    "\n",
    "JupyterHub + Kubernetes (this was our alpha test!)\n",
    "\n",
    "Goal: All trainings, Foundations on JupyterHub\n",
    "\n",
    "https://zero-to-jupyterhub.readthedocs.io/en/latest/ is AWESOME"
   ]
  },
  {
   "cell_type": "markdown",
   "metadata": {
    "slideshow": {
     "slide_type": "slide"
    }
   },
   "source": [
    "## Conclusion\n",
    "\n",
    "Links\n",
    "\n",
    "Emails\n",
    "\n",
    "Link to Presentation\n",
    "\n",
    "&c"
   ]
  }
 ],
 "metadata": {
  "celltoolbar": "Slideshow",
  "kernelspec": {
   "display_name": "Python 2",
   "language": "python",
   "name": "python2"
  },
  "language_info": {
   "codemirror_mode": {
    "name": "ipython",
    "version": 2
   },
   "file_extension": ".py",
   "mimetype": "text/x-python",
   "name": "python",
   "nbconvert_exporter": "python",
   "pygments_lexer": "ipython2",
   "version": "2.7.13"
  },
  "livereveal": {
   "start_slideshow_at": "selected",
   "transition": "none"
  }
 },
 "nbformat": 4,
 "nbformat_minor": 2
}
