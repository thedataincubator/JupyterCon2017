{
 "cells": [
  {
   "cell_type": "code",
   "execution_count": null,
   "metadata": {
    "collapsed": true,
    "slideshow": {
     "slide_type": "skip"
    }
   },
   "outputs": [],
   "source": [
    "%%javascript\n",
    "// Run this cell to hide current output, but reserve space for it.\n",
    "// Re-running those cells will cause the output to appear.\n",
    "\n",
    "$('.output_area').css('opacity', 0)"
   ]
  },
  {
   "cell_type": "code",
   "execution_count": 2,
   "metadata": {
    "collapsed": false,
    "slideshow": {
     "slide_type": "skip"
    }
   },
   "outputs": [
    {
     "data": {
      "text/html": [
       "<style>\n",
       ".fin *, .fin {\n",
       "    border: 0 !important;\n",
       "    padding: 0.5em !important;\n",
       "    text-align: center !important;\n",
       "}\n",
       ".cm-s-ipython{\n",
       "    line-height: 1.35;\n",
       "}\n",
       "</style>"
      ],
      "text/plain": [
       "<IPython.core.display.HTML object>"
      ]
     },
     "metadata": {},
     "output_type": "display_data"
    }
   ],
   "source": [
    "%%html\n",
    "<style>\n",
    ".fin *, .fin {\n",
    "    border: 0 !important;\n",
    "    padding: 0.5em !important;\n",
    "    text-align: center !important;\n",
    "}\n",
    ".cm-s-ipython{\n",
    "    line-height: 1.35;\n",
    "}\n",
    "</style>"
   ]
  },
  {
   "cell_type": "code",
   "execution_count": 3,
   "metadata": {
    "collapsed": false,
    "slideshow": {
     "slide_type": "skip"
    }
   },
   "outputs": [
    {
     "name": "stdout",
     "output_type": "stream",
     "text": [
      "WARNING: You are missing a unique key. Scores will still be reported, but not scored.\n",
      "Please show this message to a TDI staff member.\n"
     ]
    }
   ],
   "source": [
    "import grader"
   ]
  },
  {
   "cell_type": "markdown",
   "metadata": {
    "slideshow": {
     "slide_type": "slide"
    }
   },
   "source": [
    "<center>\n",
    "<h1>Teaching from Jupyter Notebooks</h1>\n",
    "\n",
    "<p>&nbsp;</p>\n",
    "\n",
    "<h2>Christian Moscardi and Robert Schroll</h2>\n",
    "\n",
    "<p>&nbsp;</p>\n",
    "\n",
    "<h3>The Data Incubator<br />\n",
    "<a href=\"https://www.thedataincubator.com\">thedataincubator.com</a></h3>\n",
    "</center>"
   ]
  },
  {
   "cell_type": "markdown",
   "metadata": {
    "slideshow": {
     "slide_type": "slide"
    }
   },
   "source": [
    "## About the Data Incubator\n",
    "\n",
    "Teach a variety of classes on data science\n",
    "- Fellowship\n",
    "- Foundations\n",
    "- Corporate Training\n",
    "- Workshops\n",
    "\n",
    "Different Content, Different Timescales, Same Platform"
   ]
  },
  {
   "cell_type": "markdown",
   "metadata": {
    "slideshow": {
     "slide_type": "slide"
    }
   },
   "source": [
    "## Outline\n",
    "\n",
    "- Notebooks for Teaching\n",
    "- Notebooks for Exercises\n",
    "- Deploying Notebooks\n",
    "- The Future"
   ]
  },
  {
   "cell_type": "markdown",
   "metadata": {
    "slideshow": {
     "slide_type": "slide"
    }
   },
   "source": [
    "## Outline\n",
    "\n",
    "- **Notebooks for Teaching**\n",
    "- Notebooks for Exercises\n",
    "- Deploying Notebooks\n",
    "- The Future"
   ]
  },
  {
   "cell_type": "markdown",
   "metadata": {
    "slideshow": {
     "slide_type": "slide"
    }
   },
   "source": [
    "## Many Languages; One Interface\n",
    "\n",
    "- IPython for Python\n",
    "- Toree for Spark/Scala\n",
    "  - http://blog.thedataincubator.com/2017/04/spark-2-0-on-jupyter-with-toree\n",
    "- R\n",
    "  - https://irkernel.github.io/"
   ]
  },
  {
   "cell_type": "markdown",
   "metadata": {
    "slideshow": {
     "slide_type": "fragment"
    }
   },
   "source": [
    "- Web stack: HTML/JS/CSS"
   ]
  },
  {
   "cell_type": "markdown",
   "metadata": {
    "slideshow": {
     "slide_type": "slide"
    }
   },
   "source": [
    "## Existing IPython Magics"
   ]
  },
  {
   "cell_type": "code",
   "execution_count": 4,
   "metadata": {
    "collapsed": false
   },
   "outputs": [
    {
     "data": {
      "text/html": [
       "\n",
       "<h2>Hello World!</h2>"
      ],
      "text/plain": [
       "<IPython.core.display.HTML object>"
      ]
     },
     "metadata": {},
     "output_type": "display_data"
    }
   ],
   "source": [
    "%%html\n",
    "\n",
    "<h2>Hello World!</h2>"
   ]
  },
  {
   "cell_type": "code",
   "execution_count": 5,
   "metadata": {
    "collapsed": false
   },
   "outputs": [
    {
     "data": {
      "application/javascript": [
       "\n",
       "alert(\"Hello World!\")"
      ],
      "text/plain": [
       "<IPython.core.display.Javascript object>"
      ]
     },
     "metadata": {},
     "output_type": "display_data"
    }
   ],
   "source": [
    "%%javascript\n",
    "\n",
    "alert(\"Hello World!\")"
   ]
  },
  {
   "cell_type": "markdown",
   "metadata": {
    "slideshow": {
     "slide_type": "slide"
    }
   },
   "source": [
    "## Magics Run in Notebook Context"
   ]
  },
  {
   "cell_type": "code",
   "execution_count": 6,
   "metadata": {
    "collapsed": false
   },
   "outputs": [
    {
     "data": {
      "text/html": [
       "<style id='annoying'>\n",
       "* {\n",
       "    font-family: \"Comic Sans MS\";\n",
       "    background: url('https://media.giphy.com/media/87tkMovdHMRk4/giphy.gif') black;\n",
       "    \n",
       "    animation: 3s infinite linear hue;\n",
       "}\n",
       "\n",
       "@keyframes hue {\n",
       "    0% { color: hsl(0, 100%, 50%); }\n",
       "    16% { color: hsl(60, 100%, 50%); }\n",
       "    33% { color: hsl(120, 100%, 50%); }\n",
       "    50% { color: hsl(180, 100%, 50%); }\n",
       "    67% { color: hsl(240, 100%, 50%); }\n",
       "    84% { color: hsl(300, 100%, 50%); }\n",
       "    100% { color: hsl(360, 100%, 50%); }\n",
       "}\n",
       "\n",
       "</style>\n",
       "<button onclick=\"$('#annoying').remove()\">Please Stop!</button>"
      ],
      "text/plain": [
       "<IPython.core.display.HTML object>"
      ]
     },
     "metadata": {},
     "output_type": "display_data"
    }
   ],
   "source": [
    "%%html\n",
    "<style id='annoying'>\n",
    "* {\n",
    "    font-family: \"Comic Sans MS\";\n",
    "    background: url('https://media.giphy.com/media/87tkMovdHMRk4/giphy.gif') black;\n",
    "    \n",
    "    animation: 3s infinite linear hue;\n",
    "}\n",
    "\n",
    "@keyframes hue {\n",
    "    0% { color: hsl(0, 100%, 50%); }\n",
    "    16% { color: hsl(60, 100%, 50%); }\n",
    "    33% { color: hsl(120, 100%, 50%); }\n",
    "    50% { color: hsl(180, 100%, 50%); }\n",
    "    67% { color: hsl(240, 100%, 50%); }\n",
    "    84% { color: hsl(300, 100%, 50%); }\n",
    "    100% { color: hsl(360, 100%, 50%); }\n",
    "}\n",
    "\n",
    "</style>\n",
    "<button onclick=\"$('#annoying').remove()\">Please Stop!</button>"
   ]
  },
  {
   "cell_type": "markdown",
   "metadata": {
    "slideshow": {
     "slide_type": "slide"
    }
   },
   "source": [
    "## A Pure JS Solution\n",
    "https://github.com/cmoscardi/embedded_d3_example\n",
    "\n",
    "Doesn't help students understand how to build similar things in a stand-alone manner."
   ]
  },
  {
   "cell_type": "markdown",
   "metadata": {
    "slideshow": {
     "slide_type": "slide"
    }
   },
   "source": [
    "## `<iframe>` for Isolation"
   ]
  },
  {
   "cell_type": "code",
   "execution_count": 7,
   "metadata": {
    "collapsed": false,
    "scrolled": false
   },
   "outputs": [
    {
     "data": {
      "text/html": [
       "\n",
       "        <iframe\n",
       "            width=\"100%\"\n",
       "            height=\"400\"\n",
       "            src=\"http://jupyter.org\"\n",
       "            frameborder=\"0\"\n",
       "            allowfullscreen\n",
       "        ></iframe>\n",
       "        "
      ],
      "text/plain": [
       "<IPython.lib.display.IFrame at 0x7fc39c191d90>"
      ]
     },
     "execution_count": 7,
     "metadata": {},
     "output_type": "execute_result"
    }
   ],
   "source": [
    "from IPython.display import IFrame, display_html\n",
    "\n",
    "IFrame('http://jupyter.org', '100%', 400)"
   ]
  },
  {
   "cell_type": "markdown",
   "metadata": {
    "slideshow": {
     "slide_type": "slide"
    }
   },
   "source": [
    "## Data URLs\n",
    "\n",
    "iframes take URLs, not raw HTML\n",
    "\n",
    "We could try to spin up a webserver to display the content, but...\n",
    "\n",
    "Data URLs encode content directly in the URL"
   ]
  },
  {
   "cell_type": "code",
   "execution_count": 8,
   "metadata": {
    "collapsed": false
   },
   "outputs": [
    {
     "data": {
      "text/html": [
       "<img src=\"data:image/png;base64,iVBORw0KGgoAAA\n",
       "ANSUhEUgAAAAUAAAAFCAYAAACNbyblAAAAHElEQVQI12P4\n",
       "//8/w38GIAXDIBKE0DHxgljNBAAO9TXL0Y4OHwAAAABJRU\n",
       "5ErkJggg==\" width=\"100\" height=\"100\" alt=\"Red dot\" />"
      ],
      "text/plain": [
       "<IPython.core.display.HTML object>"
      ]
     },
     "metadata": {},
     "output_type": "display_data"
    }
   ],
   "source": [
    "%%html\n",
    "<img src=\"data:image/png;base64,iVBORw0KGgoAAA\n",
    "ANSUhEUgAAAAUAAAAFCAYAAACNbyblAAAAHElEQVQI12P4\n",
    "//8/w38GIAXDIBKE0DHxgljNBAAO9TXL0Y4OHwAAAABJRU\n",
    "5ErkJggg==\" width=\"100\" height=\"100\" alt=\"Red dot\" />"
   ]
  },
  {
   "cell_type": "markdown",
   "metadata": {
    "slideshow": {
     "slide_type": "slide"
    }
   },
   "source": [
    "## Data URLs and iframes"
   ]
  },
  {
   "cell_type": "code",
   "execution_count": 9,
   "metadata": {
    "collapsed": false
   },
   "outputs": [
    {
     "data": {
      "text/html": [
       "\n",
       "        <iframe\n",
       "            width=\"100%\"\n",
       "            height=\"100\"\n",
       "            src=\"data:text/html;base64,CjxodG1sPgogICAgPGJvZHkgYmdjb2xvcj0nI2VlZSc+CiAgICAgICAgPGgxPkhlbGxvIFdvcmxkITwvaDE+CiAgICA8L2JvZHk+CjwvaHRtbD4K\"\n",
       "            frameborder=\"0\"\n",
       "            allowfullscreen\n",
       "        ></iframe>\n",
       "        "
      ],
      "text/plain": [
       "<IPython.lib.display.IFrame at 0x7fc39c197250>"
      ]
     },
     "execution_count": 9,
     "metadata": {},
     "output_type": "execute_result"
    }
   ],
   "source": [
    "import base64\n",
    "\n",
    "IFrame('data:text/html;base64,' + base64.b64encode(\"\"\"\n",
    "<html>\n",
    "    <body bgcolor='#eee'>\n",
    "        <h1>Hello World!</h1>\n",
    "    </body>\n",
    "</html>\n",
    "\"\"\"), \"100%\", 100)"
   ]
  },
  {
   "cell_type": "markdown",
   "metadata": {
    "slideshow": {
     "slide_type": "slide"
    }
   },
   "source": [
    "## Introducing the ihtml package\n",
    "\n",
    "Wraps iframe + Data URLs in a magic syntax"
   ]
  },
  {
   "cell_type": "code",
   "execution_count": 10,
   "metadata": {
    "collapsed": false
   },
   "outputs": [
    {
     "data": {
      "application/javascript": [
       "\n",
       "function add_highlight_mode(mode, pattern) {\n",
       "    var modes = IPython.CodeCell.config_defaults.highlight_modes;\n",
       "    var mode_name = 'magic_' + mode;\n",
       "    if (!modes[mode_name])\n",
       "        modes[mode_name] = {};\n",
       "    if (!modes[mode_name]['reg'])\n",
       "        modes[mode_name]['reg'] = [];\n",
       "    modes[mode_name]['reg'].push(pattern);\n",
       "}\n",
       "add_highlight_mode('html', /^%%ihtml/);\n",
       "add_highlight_mode('javascript', /^%%jsdoc/);\n",
       "add_highlight_mode('css', /^%%cssdoc/);\n"
      ]
     },
     "metadata": {},
     "output_type": "display_data"
    }
   ],
   "source": [
    "import ihtml"
   ]
  },
  {
   "cell_type": "code",
   "execution_count": 11,
   "metadata": {
    "collapsed": false,
    "scrolled": false
   },
   "outputs": [
    {
     "data": {
      "text/html": [
       "\n",
       "        <iframe\n",
       "            width=\"100%\"\n",
       "            height=\"400\"\n",
       "            src=\"data:text/html;base64,PGh0bWw+CiAgICA8Ym9keSBiZ2NvbG9yPScjZWVlJz4KICAgICAgICA8aDE+SGVsbG8gV29ybGQhPC9oMT4KICAgIDwvYm9keT4KPC9odG1sPg==\"\n",
       "            frameborder=\"0\"\n",
       "            allowfullscreen\n",
       "        ></iframe>\n",
       "        "
      ]
     },
     "metadata": {},
     "output_type": "display_data"
    }
   ],
   "source": [
    "%%ihtml\n",
    "<html>\n",
    "    <body bgcolor='#eee'>\n",
    "        <h1>Hello World!</h1>\n",
    "    </body>\n",
    "</html>"
   ]
  },
  {
   "cell_type": "markdown",
   "metadata": {
    "slideshow": {
     "slide_type": "slide"
    }
   },
   "source": [
    "## Templating Inspired by Jinja"
   ]
  },
  {
   "cell_type": "code",
   "execution_count": 12,
   "metadata": {
    "collapsed": true
   },
   "outputs": [],
   "source": [
    "message = \"Hello World!\""
   ]
  },
  {
   "cell_type": "code",
   "execution_count": 13,
   "metadata": {
    "collapsed": false,
    "scrolled": false
   },
   "outputs": [
    {
     "data": {
      "text/html": [
       "\n",
       "        <iframe\n",
       "            width=\"100%\"\n",
       "            height=\"200\"\n",
       "            src=\"data:text/html;base64,PGh0bWw+CiAgICA8Ym9keSBiZ2NvbG9yPScjZWVlJz4KICAgICAgICA8aDE+SGVsbG8gV29ybGQhPC9oMT4KICAgICAgICA8cHJlPnZhciBtZXNzYWdlID0gIkhlbGxvIFdvcmxkISI8L3ByZT4KICAgIDwvYm9keT4KPC9odG1sPg==\"\n",
       "            frameborder=\"0\"\n",
       "            allowfullscreen\n",
       "        ></iframe>\n",
       "        "
      ]
     },
     "metadata": {},
     "output_type": "display_data"
    }
   ],
   "source": [
    "%%ihtml 200\n",
    "<html>\n",
    "    <body bgcolor='#eee'>\n",
    "        <h1>{{ message }}</h1>\n",
    "        <pre>var message = {{ message | json }}</pre>\n",
    "    </body>\n",
    "</html>"
   ]
  },
  {
   "cell_type": "markdown",
   "metadata": {
    "slideshow": {
     "slide_type": "slide"
    }
   },
   "source": [
    "## Sub-documents for CSS and JS"
   ]
  },
  {
   "cell_type": "code",
   "execution_count": 14,
   "metadata": {
    "collapsed": true
   },
   "outputs": [],
   "source": [
    "%%cssdoc graybg\n",
    "body {\n",
    "    background: #eee;\n",
    "}"
   ]
  },
  {
   "cell_type": "code",
   "execution_count": 15,
   "metadata": {
    "collapsed": true
   },
   "outputs": [],
   "source": [
    "%%jsdoc clicker\n",
    "document.addEventListener(\"DOMContentLoaded\", function (e) {\n",
    "    document.querySelector(\"h1\").addEventListener(\"click\", function (ev) {\n",
    "        var div = document.createElement(\"div\");\n",
    "        div.textContent = {{ message | json }};\n",
    "        document.body.appendChild(div);\n",
    "    })\n",
    "})"
   ]
  },
  {
   "cell_type": "markdown",
   "metadata": {
    "slideshow": {
     "slide_type": "slide"
    }
   },
   "source": [
    "## Referencing Sub-documents"
   ]
  },
  {
   "cell_type": "code",
   "execution_count": 16,
   "metadata": {
    "collapsed": false,
    "scrolled": false
   },
   "outputs": [
    {
     "data": {
      "text/html": [
       "\n",
       "        <iframe\n",
       "            width=\"100%\"\n",
       "            height=\"400\"\n",
       "            src=\"data:text/html;base64,PGh0bWw+CiAgICA8aGVhZD4KICAgICAgICA8c3R5bGU+Ym9keSB7CiAgICBiYWNrZ3JvdW5kOiAjZWVlOwp9PC9zdHlsZT4KICAgICAgICA8c2NyaXB0PmRvY3VtZW50LmFkZEV2ZW50TGlzdGVuZXIoIkRPTUNvbnRlbnRMb2FkZWQiLCBmdW5jdGlvbiAoZSkgewogICAgZG9jdW1lbnQucXVlcnlTZWxlY3RvcigiaDEiKS5hZGRFdmVudExpc3RlbmVyKCJjbGljayIsIGZ1bmN0aW9uIChldikgewogICAgICAgIHZhciBkaXYgPSBkb2N1bWVudC5jcmVhdGVFbGVtZW50KCJkaXYiKTsKICAgICAgICBkaXYudGV4dENvbnRlbnQgPSAiSGVsbG8gV29ybGQhIjsKICAgICAgICBkb2N1bWVudC5ib2R5LmFwcGVuZENoaWxkKGRpdik7CiAgICB9KQp9KTwvc2NyaXB0PgogICAgPC9oZWFkPgogICAgPGJvZHk+CiAgICAgICAgPGgxPkNsaWNrIG1lITwvaDE+CiAgICA8L2JvZHk+CjwvaHRtbD4=\"\n",
       "            frameborder=\"0\"\n",
       "            allowfullscreen\n",
       "        ></iframe>\n",
       "        "
      ]
     },
     "metadata": {},
     "output_type": "display_data"
    }
   ],
   "source": [
    "%%ihtml\n",
    "<html>\n",
    "    <head>\n",
    "        {{ graybg | cssdoc }}\n",
    "        {{ clicker | jsdoc }}\n",
    "    </head>\n",
    "    <body>\n",
    "        <h1>Click me!</h1>\n",
    "    </body>\n",
    "</html>"
   ]
  },
  {
   "cell_type": "markdown",
   "metadata": {
    "slideshow": {
     "slide_type": "slide"
    }
   },
   "source": [
    "## ihtml\n",
    "\n",
    "Not going to replace your web-development platform\n",
    "\n",
    "Good for teaching from a single document\n",
    "\n",
    "Available on Github: https://github.com/thedataincubator/ihtml\n",
    "\n",
    "BSD license"
   ]
  },
  {
   "cell_type": "markdown",
   "metadata": {
    "slideshow": {
     "slide_type": "slide"
    }
   },
   "source": [
    "## Magics Customize Kernel Behavior\n",
    "\n",
    "You can make the notebooks behave how you need them to\n",
    "\n",
    "For example, **exception handling**"
   ]
  },
  {
   "cell_type": "code",
   "execution_count": 17,
   "metadata": {
    "collapsed": false,
    "scrolled": false,
    "slideshow": {
     "slide_type": "slide"
    }
   },
   "outputs": [
    {
     "ename": "ZeroDivisionError",
     "evalue": "integer division or modulo by zero",
     "output_type": "error",
     "traceback": [
      "\u001b[1;31m\u001b[0m",
      "\u001b[1;31mZeroDivisionError\u001b[0mTraceback (most recent call last)",
      "\u001b[1;32m<ipython-input-17-bec9a3c3ff44>\u001b[0m in \u001b[0;36m<module>\u001b[1;34m()\u001b[0m\n\u001b[0;32m      2\u001b[0m     \u001b[1;32mreturn\u001b[0m \u001b[1;36m1\u001b[0m\u001b[1;33m/\u001b[0m\u001b[1;36m0\u001b[0m\u001b[1;33m\u001b[0m\u001b[0m\n\u001b[0;32m      3\u001b[0m \u001b[1;33m\u001b[0m\u001b[0m\n\u001b[1;32m----> 4\u001b[1;33m \u001b[0mcause_problems\u001b[0m\u001b[1;33m(\u001b[0m\u001b[1;33m)\u001b[0m\u001b[1;33m\u001b[0m\u001b[0m\n\u001b[0m",
      "\u001b[1;32m<ipython-input-17-bec9a3c3ff44>\u001b[0m in \u001b[0;36mcause_problems\u001b[1;34m()\u001b[0m\n\u001b[0;32m      1\u001b[0m \u001b[1;32mdef\u001b[0m \u001b[0mcause_problems\u001b[0m\u001b[1;33m(\u001b[0m\u001b[1;33m)\u001b[0m\u001b[1;33m:\u001b[0m\u001b[1;33m\u001b[0m\u001b[0m\n\u001b[1;32m----> 2\u001b[1;33m     \u001b[1;32mreturn\u001b[0m \u001b[1;36m1\u001b[0m\u001b[1;33m/\u001b[0m\u001b[1;36m0\u001b[0m\u001b[1;33m\u001b[0m\u001b[0m\n\u001b[0m\u001b[0;32m      3\u001b[0m \u001b[1;33m\u001b[0m\u001b[0m\n\u001b[0;32m      4\u001b[0m \u001b[0mcause_problems\u001b[0m\u001b[1;33m(\u001b[0m\u001b[1;33m)\u001b[0m\u001b[1;33m\u001b[0m\u001b[0m\n",
      "\u001b[1;31mZeroDivisionError\u001b[0m: integer division or modulo by zero"
     ]
    }
   ],
   "source": [
    "def cause_problems():\n",
    "    return 1/0\n",
    "\n",
    "cause_problems()"
   ]
  },
  {
   "cell_type": "markdown",
   "metadata": {
    "slideshow": {
     "slide_type": "fragment"
    }
   },
   "source": [
    "That's great for interactive use, but\n",
    "- We want to test\n",
    "- This halts the execution of multiple cells"
   ]
  },
  {
   "cell_type": "markdown",
   "metadata": {
    "slideshow": {
     "slide_type": "slide"
    }
   },
   "source": [
    "We used to use `try`/`except` blocks"
   ]
  },
  {
   "cell_type": "code",
   "execution_count": 18,
   "metadata": {
    "collapsed": false,
    "slideshow": {
     "slide_type": "-"
    }
   },
   "outputs": [
    {
     "name": "stdout",
     "output_type": "stream",
     "text": [
      "Problems were caused!\n"
     ]
    }
   ],
   "source": [
    "try:\n",
    "    cause_problems()\n",
    "except ZeroDivisionError:\n",
    "    print \"Problems were caused!\""
   ]
  },
  {
   "cell_type": "markdown",
   "metadata": {
    "slideshow": {
     "slide_type": "fragment"
    }
   },
   "source": [
    "But students don't learn to read tracebacks"
   ]
  },
  {
   "cell_type": "markdown",
   "metadata": {
    "slideshow": {
     "slide_type": "slide"
    }
   },
   "source": [
    "We can include the traceback in Markdown...\n",
    "```\n",
    ">>> cause_problems()\n",
    "Traceback (most recent call last):\n",
    "  File \"<stdin>\", line 1, in <module>\n",
    "  File \"<stdin>\", line 2, in cause_problems\n",
    "ZeroDivisionError: integer division or modulo by zero\n",
    "```\n",
    "...at the cost of interactivity"
   ]
  },
  {
   "cell_type": "markdown",
   "metadata": {
    "slideshow": {
     "slide_type": "slide"
    }
   },
   "source": [
    "## IPython Magic for Custom Execution\n",
    "\n",
    "Our first attempt was a magic at the syntax level\n",
    "\n",
    "It would rewrite a cell like"
   ]
  },
  {
   "cell_type": "code",
   "execution_count": null,
   "metadata": {
    "collapsed": true
   },
   "outputs": [],
   "source": [
    "%%exception_magic\n",
    "\n",
    "cause_problems()"
   ]
  },
  {
   "cell_type": "markdown",
   "metadata": {},
   "source": [
    "to wrap it in a `try`/`except` block"
   ]
  },
  {
   "cell_type": "code",
   "execution_count": null,
   "metadata": {
    "collapsed": true,
    "slideshow": {
     "slide_type": "-"
    }
   },
   "outputs": [],
   "source": [
    "try:\n",
    "    cause_problems()\n",
    "except Exception as e:\n",
    "    from IPython.core import ultratb\n",
    "    ultratb.AutoFormattedTB(mode='Context')()"
   ]
  },
  {
   "cell_type": "code",
   "execution_count": 19,
   "metadata": {
    "collapsed": false,
    "slideshow": {
     "slide_type": "slide"
    }
   },
   "outputs": [
    {
     "name": "stdout",
     "output_type": "stream",
     "text": [
      "\u001b[1;31m\u001b[0m\n",
      "\u001b[1;31mZeroDivisionError\u001b[0mTraceback (most recent call last)\n",
      "\u001b[1;32m<ipython-input-19-54b95834748a>\u001b[0m in \u001b[0;36m<module>\u001b[1;34m()\u001b[0m\n",
      "\u001b[0;32m      1\u001b[0m \u001b[1;32mtry\u001b[0m\u001b[1;33m:\u001b[0m\u001b[1;33m\u001b[0m\u001b[0m\n",
      "\u001b[1;32m----> 2\u001b[1;33m     \u001b[0mcause_problems\u001b[0m\u001b[1;33m(\u001b[0m\u001b[1;33m)\u001b[0m\u001b[1;33m\u001b[0m\u001b[0m\n",
      "\u001b[0m\u001b[0;32m      3\u001b[0m \u001b[1;32mexcept\u001b[0m \u001b[0mException\u001b[0m \u001b[1;32mas\u001b[0m \u001b[0me\u001b[0m\u001b[1;33m:\u001b[0m\u001b[1;33m\u001b[0m\u001b[0m\n",
      "\u001b[0;32m      4\u001b[0m     \u001b[1;32mfrom\u001b[0m \u001b[0mIPython\u001b[0m\u001b[1;33m.\u001b[0m\u001b[0mcore\u001b[0m \u001b[1;32mimport\u001b[0m \u001b[0multratb\u001b[0m\u001b[1;33m\u001b[0m\u001b[0m\n",
      "\u001b[0;32m      5\u001b[0m     \u001b[0multratb\u001b[0m\u001b[1;33m.\u001b[0m\u001b[0mAutoFormattedTB\u001b[0m\u001b[1;33m(\u001b[0m\u001b[0mmode\u001b[0m\u001b[1;33m=\u001b[0m\u001b[1;34m'Context'\u001b[0m\u001b[1;33m)\u001b[0m\u001b[1;33m(\u001b[0m\u001b[1;33m)\u001b[0m\u001b[1;33m\u001b[0m\u001b[0m\n",
      "\n",
      "\u001b[1;32m<ipython-input-17-bec9a3c3ff44>\u001b[0m in \u001b[0;36mcause_problems\u001b[1;34m()\u001b[0m\n",
      "\u001b[0;32m      1\u001b[0m \u001b[1;32mdef\u001b[0m \u001b[0mcause_problems\u001b[0m\u001b[1;33m(\u001b[0m\u001b[1;33m)\u001b[0m\u001b[1;33m:\u001b[0m\u001b[1;33m\u001b[0m\u001b[0m\n",
      "\u001b[1;32m----> 2\u001b[1;33m     \u001b[1;32mreturn\u001b[0m \u001b[1;36m1\u001b[0m\u001b[1;33m/\u001b[0m\u001b[1;36m0\u001b[0m\u001b[1;33m\u001b[0m\u001b[0m\n",
      "\u001b[0m\u001b[0;32m      3\u001b[0m \u001b[1;33m\u001b[0m\u001b[0m\n",
      "\u001b[0;32m      4\u001b[0m \u001b[0mcause_problems\u001b[0m\u001b[1;33m(\u001b[0m\u001b[1;33m)\u001b[0m\u001b[1;33m\u001b[0m\u001b[0m\n",
      "\n",
      "\u001b[1;31mZeroDivisionError\u001b[0m: integer division or modulo by zero\n"
     ]
    }
   ],
   "source": [
    "try:\n",
    "    cause_problems()\n",
    "except Exception as e:\n",
    "    from IPython.core import ultratb\n",
    "    ultratb.AutoFormattedTB(mode='Context')()"
   ]
  },
  {
   "cell_type": "markdown",
   "metadata": {
    "slideshow": {
     "slide_type": "fragment"
    }
   },
   "source": [
    "But the traceback contains the altered source"
   ]
  },
  {
   "cell_type": "markdown",
   "metadata": {
    "slideshow": {
     "slide_type": "slide"
    }
   },
   "source": [
    "## Magics can Interact with Python Shell\n",
    "\n",
    "Magics classes get a reference to current shell in the `shell` attribute\n",
    "\n",
    "The shell can have custom exception handling in `set_custom_exc`\n",
    "\n",
    "We build a custom handler to print out exception, but continue execution"
   ]
  },
  {
   "cell_type": "markdown",
   "metadata": {
    "slideshow": {
     "slide_type": "slide"
    }
   },
   "source": [
    "## ExpectException"
   ]
  },
  {
   "cell_type": "code",
   "execution_count": 20,
   "metadata": {
    "collapsed": true
   },
   "outputs": [],
   "source": [
    "import expectexception"
   ]
  },
  {
   "cell_type": "code",
   "execution_count": 21,
   "metadata": {
    "collapsed": false
   },
   "outputs": [
    {
     "name": "stdout",
     "output_type": "stream",
     "text": [
      "\u001b[1;31m\u001b[0m\n",
      "\u001b[1;31mZeroDivisionError\u001b[0mTraceback (most recent call last)\n",
      "\u001b[1;32m<ipython-input-21-af26697ab774>\u001b[0m in \u001b[0;36m<module>\u001b[1;34m()\u001b[0m\n",
      "\u001b[0;32m      1\u001b[0m \u001b[1;33m\u001b[0m\u001b[0m\n",
      "\u001b[1;32m----> 2\u001b[1;33m \u001b[1;36m1\u001b[0m \u001b[1;33m/\u001b[0m \u001b[1;36m0\u001b[0m\u001b[1;33m\u001b[0m\u001b[0m\n",
      "\u001b[0m\n",
      "\u001b[1;31mZeroDivisionError\u001b[0m: integer division or modulo by zero\n"
     ]
    }
   ],
   "source": [
    "%%expect_exception ZeroDivisionError\n",
    "\n",
    "1 / 0"
   ]
  },
  {
   "cell_type": "markdown",
   "metadata": {
    "slideshow": {
     "slide_type": "slide"
    }
   },
   "source": [
    "## `Exception` is default type"
   ]
  },
  {
   "cell_type": "code",
   "execution_count": 22,
   "metadata": {
    "collapsed": false,
    "slideshow": {
     "slide_type": "-"
    }
   },
   "outputs": [
    {
     "name": "stdout",
     "output_type": "stream",
     "text": [
      "\u001b[1;31m\u001b[0m\n",
      "\u001b[1;31mZeroDivisionError\u001b[0mTraceback (most recent call last)\n",
      "\u001b[1;32m<ipython-input-22-af26697ab774>\u001b[0m in \u001b[0;36m<module>\u001b[1;34m()\u001b[0m\n",
      "\u001b[0;32m      1\u001b[0m \u001b[1;33m\u001b[0m\u001b[0m\n",
      "\u001b[1;32m----> 2\u001b[1;33m \u001b[1;36m1\u001b[0m \u001b[1;33m/\u001b[0m \u001b[1;36m0\u001b[0m\u001b[1;33m\u001b[0m\u001b[0m\n",
      "\u001b[0m\n",
      "\u001b[1;31mZeroDivisionError\u001b[0m: integer division or modulo by zero\n"
     ]
    }
   ],
   "source": [
    "%%expect_exception\n",
    "\n",
    "1 / 0"
   ]
  },
  {
   "cell_type": "markdown",
   "metadata": {
    "slideshow": {
     "slide_type": "slide"
    }
   },
   "source": [
    "## `ExceptionExpected`"
   ]
  },
  {
   "cell_type": "code",
   "execution_count": 23,
   "metadata": {
    "collapsed": false,
    "slideshow": {
     "slide_type": "-"
    }
   },
   "outputs": [
    {
     "data": {
      "text/plain": [
       "0"
      ]
     },
     "execution_count": 23,
     "metadata": {},
     "output_type": "execute_result"
    },
    {
     "ename": "ExceptionExpected",
     "evalue": "This cell did not raise the expected ZeroDivisionError.",
     "output_type": "error",
     "traceback": [
      "\u001b[1;31m\u001b[0m",
      "\u001b[1;31mExceptionExpected\u001b[0mTraceback (most recent call last)",
      "\u001b[1;32m<ipython-input-23-b1c8416c2780>\u001b[0m in \u001b[0;36m<module>\u001b[1;34m()\u001b[0m\n\u001b[1;32m----> 1\u001b[1;33m \u001b[0mget_ipython\u001b[0m\u001b[1;33m(\u001b[0m\u001b[1;33m)\u001b[0m\u001b[1;33m.\u001b[0m\u001b[0mrun_cell_magic\u001b[0m\u001b[1;33m(\u001b[0m\u001b[1;34mu'expect_exception'\u001b[0m\u001b[1;33m,\u001b[0m \u001b[1;34mu'ZeroDivisionError'\u001b[0m\u001b[1;33m,\u001b[0m \u001b[1;34mu'\\n0 / 1'\u001b[0m\u001b[1;33m)\u001b[0m\u001b[1;33m\u001b[0m\u001b[0m\n\u001b[0m",
      "\u001b[1;32m/home/rschroll/miniconda2/lib/python2.7/site-packages/IPython/core/interactiveshell.pyc\u001b[0m in \u001b[0;36mrun_cell_magic\u001b[1;34m(self, magic_name, line, cell)\u001b[0m\n\u001b[0;32m   2118\u001b[0m             \u001b[0mmagic_arg_s\u001b[0m \u001b[1;33m=\u001b[0m \u001b[0mself\u001b[0m\u001b[1;33m.\u001b[0m\u001b[0mvar_expand\u001b[0m\u001b[1;33m(\u001b[0m\u001b[0mline\u001b[0m\u001b[1;33m,\u001b[0m \u001b[0mstack_depth\u001b[0m\u001b[1;33m)\u001b[0m\u001b[1;33m\u001b[0m\u001b[0m\n\u001b[0;32m   2119\u001b[0m             \u001b[1;32mwith\u001b[0m \u001b[0mself\u001b[0m\u001b[1;33m.\u001b[0m\u001b[0mbuiltin_trap\u001b[0m\u001b[1;33m:\u001b[0m\u001b[1;33m\u001b[0m\u001b[0m\n\u001b[1;32m-> 2120\u001b[1;33m                 \u001b[0mresult\u001b[0m \u001b[1;33m=\u001b[0m \u001b[0mfn\u001b[0m\u001b[1;33m(\u001b[0m\u001b[0mmagic_arg_s\u001b[0m\u001b[1;33m,\u001b[0m \u001b[0mcell\u001b[0m\u001b[1;33m)\u001b[0m\u001b[1;33m\u001b[0m\u001b[0m\n\u001b[0m\u001b[0;32m   2121\u001b[0m             \u001b[1;32mreturn\u001b[0m \u001b[0mresult\u001b[0m\u001b[1;33m\u001b[0m\u001b[0m\n\u001b[0;32m   2122\u001b[0m \u001b[1;33m\u001b[0m\u001b[0m\n",
      "\u001b[1;32m<decorator-gen-127>\u001b[0m in \u001b[0;36mexpect_exception\u001b[1;34m(self, line, cell)\u001b[0m\n",
      "\u001b[1;32m/home/rschroll/miniconda2/lib/python2.7/site-packages/IPython/core/magic.pyc\u001b[0m in \u001b[0;36m<lambda>\u001b[1;34m(f, *a, **k)\u001b[0m\n\u001b[0;32m    191\u001b[0m     \u001b[1;31m# but it's overkill for just that one bit of state.\u001b[0m\u001b[1;33m\u001b[0m\u001b[1;33m\u001b[0m\u001b[0m\n\u001b[0;32m    192\u001b[0m     \u001b[1;32mdef\u001b[0m \u001b[0mmagic_deco\u001b[0m\u001b[1;33m(\u001b[0m\u001b[0marg\u001b[0m\u001b[1;33m)\u001b[0m\u001b[1;33m:\u001b[0m\u001b[1;33m\u001b[0m\u001b[0m\n\u001b[1;32m--> 193\u001b[1;33m         \u001b[0mcall\u001b[0m \u001b[1;33m=\u001b[0m \u001b[1;32mlambda\u001b[0m \u001b[0mf\u001b[0m\u001b[1;33m,\u001b[0m \u001b[1;33m*\u001b[0m\u001b[0ma\u001b[0m\u001b[1;33m,\u001b[0m \u001b[1;33m**\u001b[0m\u001b[0mk\u001b[0m\u001b[1;33m:\u001b[0m \u001b[0mf\u001b[0m\u001b[1;33m(\u001b[0m\u001b[1;33m*\u001b[0m\u001b[0ma\u001b[0m\u001b[1;33m,\u001b[0m \u001b[1;33m**\u001b[0m\u001b[0mk\u001b[0m\u001b[1;33m)\u001b[0m\u001b[1;33m\u001b[0m\u001b[0m\n\u001b[0m\u001b[0;32m    194\u001b[0m \u001b[1;33m\u001b[0m\u001b[0m\n\u001b[0;32m    195\u001b[0m         \u001b[1;32mif\u001b[0m \u001b[0mcallable\u001b[0m\u001b[1;33m(\u001b[0m\u001b[0marg\u001b[0m\u001b[1;33m)\u001b[0m\u001b[1;33m:\u001b[0m\u001b[1;33m\u001b[0m\u001b[0m\n",
      "\u001b[1;32m/home/rschroll/miniconda2/lib/python2.7/site-packages/expectexception/excpectexceptionmagic.pyc\u001b[0m in \u001b[0;36mexpect_exception\u001b[1;34m(self, line, cell)\u001b[0m\n\u001b[0;32m     25\u001b[0m     \u001b[1;33m@\u001b[0m\u001b[0mcell_magic\u001b[0m\u001b[1;33m\u001b[0m\u001b[0m\n\u001b[0;32m     26\u001b[0m     \u001b[1;32mdef\u001b[0m \u001b[0mexpect_exception\u001b[0m\u001b[1;33m(\u001b[0m\u001b[0mself\u001b[0m\u001b[1;33m,\u001b[0m \u001b[0mline\u001b[0m\u001b[1;33m,\u001b[0m \u001b[0mcell\u001b[0m\u001b[1;33m)\u001b[0m\u001b[1;33m:\u001b[0m\u001b[1;33m\u001b[0m\u001b[0m\n\u001b[1;32m---> 27\u001b[1;33m         \u001b[0mself\u001b[0m\u001b[1;33m.\u001b[0m\u001b[0mrun_cell\u001b[0m\u001b[1;33m(\u001b[0m\u001b[0mline\u001b[0m\u001b[1;33m,\u001b[0m \u001b[0mcell\u001b[0m\u001b[1;33m,\u001b[0m \u001b[0mTrue\u001b[0m\u001b[1;33m)\u001b[0m\u001b[1;33m\u001b[0m\u001b[0m\n\u001b[0m\u001b[0;32m     28\u001b[0m \u001b[1;33m\u001b[0m\u001b[0m\n\u001b[0;32m     29\u001b[0m     \u001b[1;33m@\u001b[0m\u001b[0mcell_magic\u001b[0m\u001b[1;33m\u001b[0m\u001b[0m\n",
      "\u001b[1;32m/home/rschroll/miniconda2/lib/python2.7/site-packages/expectexception/excpectexceptionmagic.pyc\u001b[0m in \u001b[0;36mrun_cell\u001b[1;34m(self, line, cell, exception_required)\u001b[0m\n\u001b[0;32m     47\u001b[0m             \u001b[0mresult\u001b[0m \u001b[1;33m=\u001b[0m \u001b[0mself\u001b[0m\u001b[1;33m.\u001b[0m\u001b[0mshell\u001b[0m\u001b[1;33m.\u001b[0m\u001b[0mrun_cell\u001b[0m\u001b[1;33m(\u001b[0m\u001b[0mcell\u001b[0m\u001b[1;33m)\u001b[0m\u001b[1;33m\u001b[0m\u001b[0m\n\u001b[0;32m     48\u001b[0m             \u001b[1;32mif\u001b[0m \u001b[0mexception_required\u001b[0m \u001b[1;32mand\u001b[0m \u001b[1;32mnot\u001b[0m \u001b[0mresult\u001b[0m\u001b[1;33m.\u001b[0m\u001b[0merror_in_exec\u001b[0m\u001b[1;33m:\u001b[0m\u001b[1;33m\u001b[0m\u001b[0m\n\u001b[1;32m---> 49\u001b[1;33m                 \u001b[1;32mraise\u001b[0m \u001b[0mExceptionExpected\u001b[0m\u001b[1;33m(\u001b[0m\u001b[1;34m\"This cell did not raise the expected %s.\"\u001b[0m \u001b[1;33m%\u001b[0m \u001b[0mline\u001b[0m\u001b[1;33m)\u001b[0m\u001b[1;33m\u001b[0m\u001b[0m\n\u001b[0m\u001b[0;32m     50\u001b[0m         \u001b[1;32mfinally\u001b[0m\u001b[1;33m:\u001b[0m\u001b[1;33m\u001b[0m\u001b[0m\n\u001b[0;32m     51\u001b[0m             \u001b[0mself\u001b[0m\u001b[1;33m.\u001b[0m\u001b[0mshell\u001b[0m\u001b[1;33m.\u001b[0m\u001b[0mCustomTB\u001b[0m \u001b[1;33m=\u001b[0m \u001b[0mold_CustomTB\u001b[0m\u001b[1;33m\u001b[0m\u001b[0m\n",
      "\u001b[1;31mExceptionExpected\u001b[0m: This cell did not raise the expected ZeroDivisionError."
     ]
    }
   ],
   "source": [
    "%%expect_exception ZeroDivisionError\n",
    "\n",
    "0 / 1"
   ]
  },
  {
   "cell_type": "markdown",
   "metadata": {
    "slideshow": {
     "slide_type": "slide"
    }
   },
   "source": [
    "## `ignore_exception` Magic"
   ]
  },
  {
   "cell_type": "code",
   "execution_count": 26,
   "metadata": {
    "collapsed": false,
    "slideshow": {
     "slide_type": "-"
    }
   },
   "outputs": [
    {
     "name": "stdout",
     "output_type": "stream",
     "text": [
      "\u001b[1;31m\u001b[0m\n",
      "\u001b[1;31mAssertionError\u001b[0mTraceback (most recent call last)\n",
      "\u001b[1;32m<ipython-input-26-215d6f8cdc59>\u001b[0m in \u001b[0;36m<module>\u001b[1;34m()\u001b[0m\n",
      "\u001b[0;32m      1\u001b[0m \u001b[1;33m\u001b[0m\u001b[0m\n",
      "\u001b[0;32m      2\u001b[0m \u001b[1;32mimport\u001b[0m \u001b[0mrandom\u001b[0m\u001b[1;33m\u001b[0m\u001b[0m\n",
      "\u001b[1;32m----> 3\u001b[1;33m \u001b[1;32massert\u001b[0m \u001b[0mrandom\u001b[0m\u001b[1;33m.\u001b[0m\u001b[0mrandint\u001b[0m\u001b[1;33m(\u001b[0m\u001b[1;36m0\u001b[0m\u001b[1;33m,\u001b[0m \u001b[1;36m1\u001b[0m\u001b[1;33m)\u001b[0m\u001b[1;33m\u001b[0m\u001b[0m\n",
      "\u001b[0m\n",
      "\u001b[1;31mAssertionError\u001b[0m: \n"
     ]
    }
   ],
   "source": [
    "%%ignore_exception AssertionError\n",
    "\n",
    "import random\n",
    "assert random.randint(0, 1)"
   ]
  },
  {
   "cell_type": "markdown",
   "metadata": {
    "slideshow": {
     "slide_type": "slide"
    }
   },
   "source": [
    "## Debugger can Inspect Tracebacks"
   ]
  },
  {
   "cell_type": "code",
   "execution_count": 27,
   "metadata": {
    "collapsed": false
   },
   "outputs": [
    {
     "name": "stdout",
     "output_type": "stream",
     "text": [
      "> \u001b[1;32m<ipython-input-26-215d6f8cdc59>\u001b[0m(3)\u001b[0;36m<module>\u001b[1;34m()\u001b[0m\n",
      "\u001b[1;32m      1 \u001b[1;33m\u001b[1;33m\u001b[0m\u001b[0m\n",
      "\u001b[0m\u001b[1;32m      2 \u001b[1;33m\u001b[1;32mimport\u001b[0m \u001b[0mrandom\u001b[0m\u001b[1;33m\u001b[0m\u001b[0m\n",
      "\u001b[0m\u001b[1;32m----> 3 \u001b[1;33m\u001b[1;32massert\u001b[0m \u001b[0mrandom\u001b[0m\u001b[1;33m.\u001b[0m\u001b[0mrandint\u001b[0m\u001b[1;33m(\u001b[0m\u001b[1;36m0\u001b[0m\u001b[1;33m,\u001b[0m \u001b[1;36m1\u001b[0m\u001b[1;33m)\u001b[0m\u001b[1;33m\u001b[0m\u001b[0m\n",
      "\u001b[0m\n",
      "\u0001\u0002ipdb> \u0001\u0002p random\n",
      "<module 'random' from '/home/rschroll/miniconda2/lib/python2.7/random.pyc'>\n",
      "\u0001\u0002ipdb> \u0001\u0002q\n"
     ]
    }
   ],
   "source": [
    "%debug"
   ]
  },
  {
   "cell_type": "markdown",
   "metadata": {
    "slideshow": {
     "slide_type": "slide"
    }
   },
   "source": [
    "## ExpectException\n",
    "\n",
    "Available on Github: https://github.com/thedataincubator/expectexception\n",
    "\n",
    "BSD license"
   ]
  },
  {
   "cell_type": "markdown",
   "metadata": {
    "slideshow": {
     "slide_type": "slide"
    }
   },
   "source": [
    "## Outline\n",
    "\n",
    "- **Notebooks for Teaching**\n",
    "- Notebooks for Exercises\n",
    "- Deploying Notebooks\n",
    "- The Future"
   ]
  },
  {
   "cell_type": "markdown",
   "metadata": {
    "slideshow": {
     "slide_type": "slide"
    }
   },
   "source": [
    "## Outline\n",
    "\n",
    "- Notebooks for Teaching\n",
    "- **Notebooks for Exercises**\n",
    "- Deploying Notebooks\n",
    "- The Future"
   ]
  },
  {
   "cell_type": "markdown",
   "metadata": {
    "slideshow": {
     "slide_type": "slide"
    }
   },
   "source": [
    "## Miniprojects\n",
    "\n",
    "We believe in *learning-by-doing*\n",
    "\n",
    "Most of students' time is spent on \"miniprojects\":  \n",
    "Sample analysis of real data\n",
    "\n",
    "Worried about results, not method"
   ]
  },
  {
   "cell_type": "markdown",
   "metadata": {
    "slideshow": {
     "slide_type": "slide"
    }
   },
   "source": [
    "## Each in a Notebook\n",
    "\n",
    "Mix description, helper code, outline of solution in same document\n",
    "\n",
    "Start with fill-in-the-blank questions"
   ]
  },
  {
   "cell_type": "code",
   "execution_count": null,
   "metadata": {
    "collapsed": true
   },
   "outputs": [],
   "source": [
    "star_sum = defaultdict(int)\n",
    "count = defaultdict(int)\n",
    "\n",
    "for row, stars in zip(data, star_ratings):\n",
    "    # increment the running sum in star_sum\n",
    "    # increment the running count in count"
   ]
  },
  {
   "cell_type": "markdown",
   "metadata": {
    "slideshow": {
     "slide_type": "slide"
    }
   },
   "source": [
    "Move to less-directed questions\n",
    "\n",
    "> Build a custom transformer that flattens the attributes dictionary. Place this in a pipeline with a DictVectorizer and a regressor.\n",
    "> \n",
    "> You may find it difficult to find a single regressor that does well enough. A common solution is to use a linear model to fit the linear part of some data, and use a non-linear model to fit the residual that the linear model can't fit. Build a residual estimator that takes as an argument two other estimators. It should use the first to fit the raw data and the second to fit the residuals of the first."
   ]
  },
  {
   "cell_type": "code",
   "execution_count": null,
   "metadata": {
    "collapsed": true
   },
   "outputs": [],
   "source": []
  },
  {
   "cell_type": "markdown",
   "metadata": {
    "slideshow": {
     "slide_type": "slide"
    }
   },
   "source": [
    "## Checkpoints with `assert`\n",
    "\n",
    "Allow students to check their progress towards an answer"
   ]
  },
  {
   "cell_type": "code",
   "execution_count": null,
   "metadata": {
    "collapsed": true
   },
   "outputs": [],
   "source": [
    "assert len(avg_stars) == 167"
   ]
  },
  {
   "cell_type": "markdown",
   "metadata": {},
   "source": [
    "**But:** Students will solve problems in ways that invalidate your assumptions!"
   ]
  },
  {
   "cell_type": "markdown",
   "metadata": {
    "slideshow": {
     "slide_type": "slide"
    }
   },
   "source": [
    "## Automated Grader\n",
    "\n",
    "Instant feedback for students, based on the results of their analysis\n",
    "\n",
    "Students write a function that returns the answer\n",
    "\n",
    "This function is passed to the `grader.score` function\n",
    "\n",
    "Unlike **nbgrader**, **OK**:\n",
    "- Teachers don't get code\n",
    "- Students get grades in seconds"
   ]
  },
  {
   "cell_type": "markdown",
   "metadata": {
    "slideshow": {
     "slide_type": "slide"
    }
   },
   "source": [
    "## Fixed Answers\n",
    "\n",
    "Some questions ask for a single fixed answer\n",
    "\n",
    "> Return a list of the first five prime numbers."
   ]
  },
  {
   "cell_type": "code",
   "execution_count": 28,
   "metadata": {
    "collapsed": false
   },
   "outputs": [
    {
     "name": "stdout",
     "output_type": "stream",
     "text": [
      "==================\n",
      "Your score:  1.0\n",
      "==================\n"
     ]
    }
   ],
   "source": [
    "def give_primes():\n",
    "    return [2, 3, 5, 7, 11]\n",
    "\n",
    "grader.score(\"assignment1__five_primes\", give_primes)"
   ]
  },
  {
   "cell_type": "markdown",
   "metadata": {},
   "source": [
    "Used for most data processing questions\n",
    "\n",
    "Grades based on overlap (possibly fuzzy) of student's answer and reference solution"
   ]
  },
  {
   "cell_type": "markdown",
   "metadata": {
    "slideshow": {
     "slide_type": "slide"
    }
   },
   "source": [
    "## Dynamic Answers\n",
    "\n",
    "Other questions require a function that processes input to calculate a response\n",
    "\n",
    "> Build a function that takes a list of numbers and returns a list of their squares."
   ]
  },
  {
   "cell_type": "code",
   "execution_count": 29,
   "metadata": {
    "collapsed": false
   },
   "outputs": [
    {
     "name": "stdout",
     "output_type": "stream",
     "text": [
      "==================\n",
      "Your score:  1.0\n",
      "==================\n"
     ]
    }
   ],
   "source": [
    "def square(x):\n",
    "    return [i**2 for i in x]\n",
    "\n",
    "grader.score(\"assignment1__square\", square)"
   ]
  },
  {
   "cell_type": "markdown",
   "metadata": {},
   "source": [
    "Used for most machine learning questions\n",
    "\n",
    "Grades based on some machine learning metric, normalized by reference solution score on same metric"
   ]
  },
  {
   "cell_type": "markdown",
   "metadata": {
    "slideshow": {
     "slide_type": "slide"
    }
   },
   "source": [
    "## Grader Architecture\n",
    "\n",
    "![Grading](grader-path.svg)"
   ]
  },
  {
   "cell_type": "markdown",
   "metadata": {
    "slideshow": {
     "slide_type": "slide"
    }
   },
   "source": [
    "## Templating System\n",
    "\n",
    "Want solution version of notebooks to hand out after course\n",
    "\n",
    "Want to know that partial code in prompt notebook is correct\n",
    "\n",
    "$\\Rightarrow$ Generate both from same document\n",
    "\n",
    "Use simple templating commands in code cells"
   ]
  },
  {
   "cell_type": "code",
   "execution_count": null,
   "metadata": {
    "collapsed": true
   },
   "outputs": [],
   "source": [
    "l = [1, 2, 3]  #REMOVERHS\n",
    "for i in l:\n",
    "    #INSERT print ...\n",
    "    #REMOVE{\n",
    "    print i + 1\n",
    "    #REMOVE}\n",
    "print \"Done\" #REMOVE"
   ]
  },
  {
   "cell_type": "markdown",
   "metadata": {
    "slideshow": {
     "slide_type": "slide"
    }
   },
   "source": [
    "## Generating Prompt Notebook"
   ]
  },
  {
   "cell_type": "code",
   "execution_count": null,
   "metadata": {
    "collapsed": true
   },
   "outputs": [],
   "source": [
    "l = [1, 2, 3]  #REMOVERHS\n",
    "for i in l:\n",
    "    #INSERT print ...\n",
    "    #REMOVE{\n",
    "    print i + 1\n",
    "    #REMOVE}\n",
    "print \"Done\" #REMOVE"
   ]
  },
  {
   "cell_type": "markdown",
   "metadata": {},
   "source": [
    "Preprocessor script removes some lines, inserts others, to yield:"
   ]
  },
  {
   "cell_type": "code",
   "execution_count": null,
   "metadata": {
    "collapsed": true
   },
   "outputs": [],
   "source": [
    "l = ...\n",
    "for i in l:\n",
    "    print ..."
   ]
  },
  {
   "cell_type": "markdown",
   "metadata": {
    "slideshow": {
     "slide_type": "slide"
    }
   },
   "source": [
    "## Generating Solution Notebook"
   ]
  },
  {
   "cell_type": "code",
   "execution_count": null,
   "metadata": {
    "collapsed": true
   },
   "outputs": [],
   "source": [
    "l = [1, 2, 3]  #REMOVERHS\n",
    "for i in l:\n",
    "    #INSERT print ...\n",
    "    #REMOVE{\n",
    "    print i + 1\n",
    "    #REMOVE}\n",
    "print \"Done\" #REMOVE"
   ]
  },
  {
   "cell_type": "markdown",
   "metadata": {},
   "source": [
    "Preprocessor script removes comments, leaving functional code the same:"
   ]
  },
  {
   "cell_type": "code",
   "execution_count": null,
   "metadata": {
    "collapsed": true
   },
   "outputs": [],
   "source": [
    "l = [1, 2, 3]\n",
    "for i in l:\n",
    "    print i + 1\n",
    "print \"Done\""
   ]
  },
  {
   "cell_type": "markdown",
   "metadata": {
    "slideshow": {
     "slide_type": "slide"
    }
   },
   "source": [
    "## In-Notebook Exercises\n",
    "\n",
    "Miniprojects aren't appropriate to every type of class\n",
    "\n",
    "Shorter trainings, workshops don't have time for students to get into miniprojects\n",
    "\n",
    "Instead, integrate exercises in between lecture topics  \n",
    "$\\Rightarrow$ Short bits of coding to test understanding"
   ]
  },
  {
   "cell_type": "markdown",
   "metadata": {
    "slideshow": {
     "slide_type": "slide"
    }
   },
   "source": [
    "## Outline\n",
    "\n",
    "- Notebooks for Teaching\n",
    "- **Notebooks for Exercises**\n",
    "- Deploying Notebooks\n",
    "- The Future"
   ]
  },
  {
   "cell_type": "markdown",
   "metadata": {
    "slideshow": {
     "slide_type": "slide"
    }
   },
   "source": [
    "## Outline\n",
    "\n",
    "- Notebooks for Teaching\n",
    "- Notebooks for Exercises\n",
    "- **Deploying Notebooks**\n",
    "- The Future"
   ]
  },
  {
   "cell_type": "markdown",
   "metadata": {
    "slideshow": {
     "slide_type": "slide"
    }
   },
   "source": [
    "## Using git for SCM\n",
    "\n",
    "Get all sorts of metadata and output in source files.\n",
    "\n",
    "```json\n",
    "\"outputs\": [\n",
    "    {\n",
    "     \"data\": {\n",
    "      \"application/javascript\": [\n",
    "       \"\\n\",\n",
    "       \"           window.headwayVsRidership={\\\"day\\\":{\\\"0\\\":\\\"Monday\\\",\\\"1\\\":\\\"Tuesday\\\",\\\"2\\\":\\\"Wednesday\\\",\\\"3\\\":\\\"Thursday\\\",\\\"4\\\":\\\"Friday\\\",\\\"5\\\":\\\"Saturday\\\",\\\"6\\\":\\\"Sunday\\\",\\\"7\\\":\\\"Monda...\n",
    "       ...\n",
    "```\n",
    "\n",
    "** Only content should be included in Git, not outputs **"
   ]
  },
  {
   "cell_type": "markdown",
   "metadata": {
    "slideshow": {
     "slide_type": "slide"
    }
   },
   "source": [
    "## Cleaning Scripts as git Hooks\n",
    "\n",
    "Solution - a really simple git pre-commit hook.\n",
    "\n",
    "[gist.github.com/cmoscardi/75a4cf2362c49deb36cdd6b991c25786](https://gist.github.com/cmoscardi/75a4cf2362c49deb36cdd6b991c25786)\n",
    "\n",
    "```python\n",
    "    for cell in ipynb.cells:\n",
    "      if \"outputs\" in cell:\n",
    "        cell[\"outputs\"] = []\n",
    "      if \"execution_count\" in cell:\n",
    "        cell[\"execution_count\"] = None\n",
    "```\n",
    "Extension for doing this on save in-development - interested?"
   ]
  },
  {
   "cell_type": "markdown",
   "metadata": {
    "slideshow": {
     "slide_type": "slide"
    }
   },
   "source": [
    "## Smoke Testing\n",
    "\n",
    "Make sure all cells run\n",
    "\n",
    "```\n",
    "jupyter nbconvert --to notebook --execute\\\n",
    "--ExecutePreprocessor.timeout=60\\\n",
    "--output my_notebook_executed.ipynb my_notebook.ipynb\n",
    "```\n",
    "\n",
    "http://www.christianmoscardi.com/blog/2016/01/20/jupyter-testing.html\n",
    "\n",
    "As long as you have the appropriate kernel installed, this Just Works&trade;  \n",
    "Even in parallel!"
   ]
  },
  {
   "cell_type": "markdown",
   "metadata": {
    "slideshow": {
     "slide_type": "slide"
    }
   },
   "source": [
    "## Link Testing\n",
    "\n",
    "External sites go down all the time\n",
    "\n",
    "Internal links $\\Rightarrow$ Did we deploy the right resources?"
   ]
  },
  {
   "cell_type": "markdown",
   "metadata": {
    "slideshow": {
     "slide_type": "slide"
    }
   },
   "source": [
    "## Dependency Modification\n",
    "Developers can easily modify dependencies as well\n",
    "\n",
    "Simply modify environment and new image is built on CI"
   ]
  },
  {
   "cell_type": "markdown",
   "metadata": {
    "slideshow": {
     "slide_type": "slide"
    }
   },
   "source": [
    "![Dev Pipeline](Dev Pipeline.svg)"
   ]
  },
  {
   "cell_type": "markdown",
   "metadata": {
    "slideshow": {
     "slide_type": "slide"
    }
   },
   "source": [
    "## Efficiency vs. Completeness\n",
    "\n",
    "On PRs, test only what changed\n",
    "\n",
    "Unless a dependency changed; then test everything\n"
   ]
  },
  {
   "cell_type": "markdown",
   "metadata": {
    "slideshow": {
     "slide_type": "slide"
    }
   },
   "source": [
    "![Testing](Testing Pipeline.svg)"
   ]
  },
  {
   "cell_type": "markdown",
   "metadata": {
    "slideshow": {
     "slide_type": "slide"
    }
   },
   "source": [
    "## Now, Parallelize that\n",
    "\n",
    "Use `nose-parallel` [link](http://nose.readthedocs.io/en/latest/doc_tests/test_multiprocess/multiprocess.html). `nose-parallel` doesn't like dynamically added tests (we sniff for all notebooks or pull diffed ones)... so we have to hack some internals.\n",
    "\n",
    "```python\n",
    "  @classmethod\n",
    "  def add_func(cls, ipynb):\n",
    "    \n",
    "    def func(self):\n",
    "      self.check_ipynb(ipynb) # nbconvert code\n",
    "\n",
    "    _, nbname = os.path.split(ipynb)\n",
    "    func.__name__ = 'test_{}_{}'.format(\n",
    "        prefix, nbname.split('.')[0])\n",
    "    func.__doc__ = 'Test {}'.format(nbname)\n",
    "    setattr(cls, func.__name__, func)\n",
    "\n",
    "```\n",
    "\n",
    "We also parallelize our remote link checking with [requests-futures](https://github.com/ross/requests-futures) (and some retry logic).\n"
   ]
  },
  {
   "cell_type": "markdown",
   "metadata": {
    "slideshow": {
     "slide_type": "slide"
    }
   },
   "source": [
    "## Deployment\n",
    "\n",
    "Individual Digital Ocean boxes for each student\n",
    "\n",
    "Image contains all software and libraries\n",
    "\n",
    "Curriculum loaded from S3\n",
    "\n",
    "Autolaunch Jupyter server; use IPtables to put on port 443"
   ]
  },
  {
   "cell_type": "markdown",
   "metadata": {
    "slideshow": {
     "slide_type": "slide"
    }
   },
   "source": [
    "![Deploy](Deploy Pipeline.svg)"
   ]
  },
  {
   "cell_type": "markdown",
   "metadata": {
    "slideshow": {
     "slide_type": "slide"
    }
   },
   "source": [
    "## Outline\n",
    "\n",
    "- Notebooks for Teaching\n",
    "- Notebooks for Exercises\n",
    "- **Deploying Notebooks**\n",
    "- The Future"
   ]
  },
  {
   "cell_type": "markdown",
   "metadata": {
    "slideshow": {
     "slide_type": "slide"
    }
   },
   "source": [
    "## Outline\n",
    "\n",
    "- Notebooks for Teaching\n",
    "- Notebooks for Exercises\n",
    "- Deploying Notebooks\n",
    "- **The Future**"
   ]
  },
  {
   "cell_type": "markdown",
   "metadata": {
    "slideshow": {
     "slide_type": "slide"
    }
   },
   "source": [
    "## The Future\n",
    "\n",
    "MOOCs $\\Rightarrow$ This won't scale\n",
    "\n",
    "JupyterHub + Kubernetes (this was our alpha test!)\n",
    "\n",
    "Goal: All trainings, Foundations on JupyterHub\n",
    "\n",
    "https://zero-to-jupyterhub.readthedocs.io/en/latest/ is AWESOME"
   ]
  },
  {
   "cell_type": "markdown",
   "metadata": {
    "slideshow": {
     "slide_type": "slide"
    }
   },
   "source": [
    "## Fin\n",
    "<table class=\"fin\">\n",
    "<tr>\n",
    "<th>Christian Moscardi</th>\n",
    "<th>Robert Schroll</th>\n",
    "</tr>\n",
    "<tr>\n",
    "<td>christian@thedataincubator.com</td>\n",
    "<td>robert@thedataincubator.com</td>\n",
    "</tr>\n",
    "<tr>\n",
    "<td></td>\n",
    "<td>github.com/rschroll</td>\n",
    "</tr>\n",
    "<tr>\n",
    "<td colspan=\"2\"><a href=\"http://bit.ly/tdi-jc\">bit.ly/tdi-jc</a></td>\n",
    "</table>"
   ]
  }
 ],
 "metadata": {
  "celltoolbar": "Slideshow",
  "kernelspec": {
   "display_name": "Python 2",
   "language": "python",
   "name": "python2"
  },
  "language_info": {
   "codemirror_mode": {
    "name": "ipython",
    "version": 2
   },
   "file_extension": ".py",
   "mimetype": "text/x-python",
   "name": "python",
   "nbconvert_exporter": "python",
   "pygments_lexer": "ipython2",
   "version": "2.7.13"
  },
  "livereveal": {
   "start_slideshow_at": "selected",
   "transition": "none"
  }
 },
 "nbformat": 4,
 "nbformat_minor": 2
}
